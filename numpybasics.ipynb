{
 "cells": [
  {
   "cell_type": "code",
   "execution_count": 3,
   "id": "865da686",
   "metadata": {},
   "outputs": [],
   "source": [
    "import numpy as np\n"
   ]
  },
  {
   "cell_type": "code",
   "execution_count": 4,
   "id": "6baa1c56",
   "metadata": {},
   "outputs": [],
   "source": [
    "List = [1,2,3,4]"
   ]
  },
  {
   "cell_type": "code",
   "execution_count": 5,
   "id": "67a056be",
   "metadata": {},
   "outputs": [
    {
     "name": "stdout",
     "output_type": "stream",
     "text": [
      "[1 2 3 4]\n"
     ]
    }
   ],
   "source": [
    "a1 = np.array(List)\n",
    "print(a1)"
   ]
  },
  {
   "cell_type": "code",
   "execution_count": 8,
   "id": "439c392f",
   "metadata": {},
   "outputs": [
    {
     "name": "stdout",
     "output_type": "stream",
     "text": [
      "[[10 11 12 13]\n",
      " [21 22 23 24]]\n"
     ]
    }
   ],
   "source": [
    "a7 = np.array([[10,11,12,13], [21,22,23,24]])\n",
    "print(a7)"
   ]
  },
  {
   "cell_type": "code",
   "execution_count": 7,
   "id": "d317b436",
   "metadata": {},
   "outputs": [
    {
     "data": {
      "text/plain": [
       "24"
      ]
     },
     "execution_count": 7,
     "metadata": {},
     "output_type": "execute_result"
    }
   ],
   "source": [
    "a7[1,3]"
   ]
  },
  {
   "cell_type": "code",
   "execution_count": 9,
   "id": "8fae8242",
   "metadata": {},
   "outputs": [
    {
     "data": {
      "text/plain": [
       "24"
      ]
     },
     "execution_count": 9,
     "metadata": {},
     "output_type": "execute_result"
    }
   ],
   "source": [
    "a7[1][3]"
   ]
  },
  {
   "cell_type": "code",
   "execution_count": 10,
   "id": "0a2d1d6a",
   "metadata": {},
   "outputs": [
    {
     "data": {
      "text/plain": [
       "array([[10, 11, 12, 13],\n",
       "       [21, 22, 23, 24]])"
      ]
     },
     "execution_count": 10,
     "metadata": {},
     "output_type": "execute_result"
    }
   ],
   "source": [
    "a7"
   ]
  },
  {
   "cell_type": "code",
   "execution_count": 11,
   "id": "85bbfd55",
   "metadata": {},
   "outputs": [],
   "source": [
    "# no of axes in ndarray is called its rank\n"
   ]
  },
  {
   "cell_type": "code",
   "execution_count": 12,
   "id": "ba3054c6",
   "metadata": {},
   "outputs": [
    {
     "data": {
      "text/plain": [
       "(2, 4)"
      ]
     },
     "execution_count": 12,
     "metadata": {},
     "output_type": "execute_result"
    }
   ],
   "source": [
    "a7.shape"
   ]
  },
  {
   "cell_type": "code",
   "execution_count": 13,
   "id": "f7108707",
   "metadata": {},
   "outputs": [
    {
     "data": {
      "text/plain": [
       "4"
      ]
     },
     "execution_count": 13,
     "metadata": {},
     "output_type": "execute_result"
    }
   ],
   "source": [
    "a7.itemsize"
   ]
  },
  {
   "cell_type": "code",
   "execution_count": 14,
   "id": "e12b7559",
   "metadata": {},
   "outputs": [
    {
     "data": {
      "text/plain": [
       "dtype('int32')"
      ]
     },
     "execution_count": 14,
     "metadata": {},
     "output_type": "execute_result"
    }
   ],
   "source": [
    "a7.dtype\n"
   ]
  },
  {
   "cell_type": "code",
   "execution_count": 15,
   "id": "66403606",
   "metadata": {},
   "outputs": [],
   "source": [
    "# what is vectorized operations in python?"
   ]
  },
  {
   "cell_type": "code",
   "execution_count": 17,
   "id": "b1e3dca1",
   "metadata": {},
   "outputs": [
    {
     "name": "stdout",
     "output_type": "stream",
     "text": [
      "<class 'numpy.ndarray'>\n",
      "int32\n",
      "4\n"
     ]
    }
   ],
   "source": [
    "# array  uisng list\n",
    "list1 =[1,2,3,4,5]\n",
    "ar1 = np.array(list1)\n",
    "print(type(ar1))\n",
    "print(ar1.dtype)\n",
    "print(ar1.itemsize)"
   ]
  },
  {
   "cell_type": "code",
   "execution_count": 18,
   "id": "c3bc0c94",
   "metadata": {},
   "outputs": [
    {
     "name": "stdout",
     "output_type": "stream",
     "text": [
      "[1 2 3 4 5]\n"
     ]
    }
   ],
   "source": [
    "print(ar1)"
   ]
  },
  {
   "cell_type": "code",
   "execution_count": 19,
   "id": "f50afe2f",
   "metadata": {},
   "outputs": [
    {
     "name": "stdout",
     "output_type": "stream",
     "text": [
      "1 4\n"
     ]
    }
   ],
   "source": [
    "print(ar1[0], ar1[3])"
   ]
  },
  {
   "cell_type": "code",
   "execution_count": 20,
   "id": "43857b50",
   "metadata": {},
   "outputs": [
    {
     "name": "stdout",
     "output_type": "stream",
     "text": [
      "int64\n",
      "8\n"
     ]
    }
   ],
   "source": [
    "# create ndarray by specifing own datatype\n",
    "ar3 =  np.array(list1, dtype = np.int64)\n",
    "print(ar3.dtype)\n",
    "print(ar3.itemsize)"
   ]
  },
  {
   "cell_type": "code",
   "execution_count": 22,
   "id": "085e75fd",
   "metadata": {},
   "outputs": [
    {
     "name": "stdout",
     "output_type": "stream",
     "text": [
      "<class 'numpy.ndarray'>\n",
      "float64\n",
      "8\n"
     ]
    }
   ],
   "source": [
    "# array using tuple\n",
    "tup1 = (2.5, 3.5 , 4.5, 6.5)\n",
    "ar2 = np.array(tup1)\n",
    "print(type(ar2))\n",
    "print(ar2.dtype)\n",
    "print(ar2.itemsize)"
   ]
  },
  {
   "cell_type": "code",
   "execution_count": 23,
   "id": "fb60753e",
   "metadata": {},
   "outputs": [
    {
     "name": "stdout",
     "output_type": "stream",
     "text": [
      "[2.5 3.5 4.5 6.5]\n"
     ]
    }
   ],
   "source": [
    "print(ar2)"
   ]
  },
  {
   "cell_type": "code",
   "execution_count": 24,
   "id": "658df554",
   "metadata": {},
   "outputs": [
    {
     "name": "stdout",
     "output_type": "stream",
     "text": [
      "2.5 6.5\n"
     ]
    }
   ],
   "source": [
    "print(ar2[0],  ar2[3])"
   ]
  },
  {
   "cell_type": "code",
   "execution_count": 26,
   "id": "c9c0ee1a",
   "metadata": {},
   "outputs": [
    {
     "name": "stdout",
     "output_type": "stream",
     "text": [
      "float16\n",
      "2\n"
     ]
    }
   ],
   "source": [
    "ar4 = np.array(tup1, dtype = np.float16)\n",
    "print(ar4.dtype)\n",
    "print(ar4.itemsize)"
   ]
  },
  {
   "cell_type": "code",
   "execution_count": 28,
   "id": "85be9b8c",
   "metadata": {},
   "outputs": [
    {
     "ename": "IndexError",
     "evalue": "too many indices for array: array is 0-dimensional, but 1 were indexed",
     "output_type": "error",
     "traceback": [
      "\u001b[1;31m---------------------------------------------------------------------------\u001b[0m",
      "\u001b[1;31mIndexError\u001b[0m                                Traceback (most recent call last)",
      "Cell \u001b[1;32mIn[28], line 4\u001b[0m\n\u001b[0;32m      2\u001b[0m dict1 \u001b[38;5;241m=\u001b[39m {\u001b[38;5;241m1\u001b[39m:\u001b[38;5;124m\"\u001b[39m\u001b[38;5;124mA\u001b[39m\u001b[38;5;124m\"\u001b[39m , \u001b[38;5;241m2\u001b[39m :\u001b[38;5;124m\"\u001b[39m\u001b[38;5;124mB\u001b[39m\u001b[38;5;124m\"\u001b[39m, \u001b[38;5;241m3\u001b[39m :\u001b[38;5;124m\"\u001b[39m\u001b[38;5;124mC\u001b[39m\u001b[38;5;124m\"\u001b[39m}\n\u001b[0;32m      3\u001b[0m ar5 \u001b[38;5;241m=\u001b[39m np\u001b[38;5;241m.\u001b[39marray(dict1)\n\u001b[1;32m----> 4\u001b[0m \u001b[43mar5\u001b[49m\u001b[43m[\u001b[49m\u001b[38;5;241;43m0\u001b[39;49m\u001b[43m]\u001b[49m\n",
      "\u001b[1;31mIndexError\u001b[0m: too many indices for array: array is 0-dimensional, but 1 were indexed"
     ]
    }
   ],
   "source": [
    "# creating array using dictionary\n",
    "dict1 = {1:\"A\" , 2 :\"B\", 3 :\"C\"}\n",
    "ar5 = np.array(dict1)\n",
    "ar5[0]"
   ]
  },
  {
   "cell_type": "code",
   "execution_count": 30,
   "id": "1e24d3d0",
   "metadata": {},
   "outputs": [
    {
     "ename": "IndexError",
     "evalue": "too many indices for array: array is 0-dimensional, but 1 were indexed",
     "output_type": "error",
     "traceback": [
      "\u001b[1;31m---------------------------------------------------------------------------\u001b[0m",
      "\u001b[1;31mIndexError\u001b[0m                                Traceback (most recent call last)",
      "Cell \u001b[1;32mIn[30], line 3\u001b[0m\n\u001b[0;32m      1\u001b[0m \u001b[38;5;66;03m# creating array using string \u001b[39;00m\n\u001b[0;32m      2\u001b[0m ar6 \u001b[38;5;241m=\u001b[39m np\u001b[38;5;241m.\u001b[39marray(\u001b[38;5;124m\"\u001b[39m\u001b[38;5;124mastring\u001b[39m\u001b[38;5;124m\"\u001b[39m)\n\u001b[1;32m----> 3\u001b[0m \u001b[43mar6\u001b[49m\u001b[43m[\u001b[49m\u001b[38;5;241;43m0\u001b[39;49m\u001b[43m]\u001b[49m\n",
      "\u001b[1;31mIndexError\u001b[0m: too many indices for array: array is 0-dimensional, but 1 were indexed"
     ]
    }
   ],
   "source": [
    "# creating array using string \n",
    "ar6 = np.array(\"astring\")\n",
    "ar6[0]"
   ]
  },
  {
   "cell_type": "code",
   "execution_count": 32,
   "id": "fb007a7e",
   "metadata": {},
   "outputs": [
    {
     "data": {
      "text/plain": [
       "(dtype('int32'), 4)"
      ]
     },
     "execution_count": 32,
     "metadata": {},
     "output_type": "execute_result"
    }
   ],
   "source": [
    "# Creating ndarrays using fromitter()\n",
    "adict = {1:\"A\", 2:\"B\", 3:\"C\", 4:\"D\", 5:\"E\"}\n",
    "ar5 = np.fromiter(adict, dtype =np.int32)\n",
    "ar5.dtype , ar5.itemsize"
   ]
  },
  {
   "cell_type": "code",
   "execution_count": 33,
   "id": "085e19d6",
   "metadata": {},
   "outputs": [
    {
     "name": "stdout",
     "output_type": "stream",
     "text": [
      "[1 2 3 4 5]\n"
     ]
    }
   ],
   "source": [
    "print(ar5)"
   ]
  },
  {
   "cell_type": "code",
   "execution_count": 35,
   "id": "f3a56526",
   "metadata": {},
   "outputs": [
    {
     "name": "stdout",
     "output_type": "stream",
     "text": [
      "['t' 'h' 'i' 's' 'I' 's' 'G' 'o' 'n' 'n' 'a' 'F' 'u' 'n']\n"
     ]
    }
   ],
   "source": [
    "# creating nd array using fromiter via string datatype\n",
    "astr =\"thisIsGonnaFun\"\n",
    "ar6= np.fromiter(astr , dtype = \"U2\")\n",
    "print(ar6)"
   ]
  },
  {
   "cell_type": "code",
   "execution_count": 38,
   "id": "f4623e20",
   "metadata": {},
   "outputs": [
    {
     "name": "stdout",
     "output_type": "stream",
     "text": [
      "['a' 'b' 'c' 'd' 'e']\n",
      "['1.' '2.' '3.' '4.']\n",
      "[1 3 5 7]\n"
     ]
    }
   ],
   "source": [
    "alist = [\"a\",\"b\",\"c\",\"d\",\"e\"]\n",
    "atup = [1.5,2.5,3.5,4.5]\n",
    "lst2 = [a*2 - 3 for a in range(2,6)]\n",
    "nd1 = np.fromiter(alist, dtype =\"U1\")\n",
    "nd2 = np.fromiter(atup, dtype = \"U2\")\n",
    "nd3 = np.fromiter(lst2, dtype = np.int16)\n",
    "print(nd1)\n",
    "print(nd2)\n",
    "print(nd3)"
   ]
  },
  {
   "cell_type": "code",
   "execution_count": 40,
   "id": "9f4f8434",
   "metadata": {},
   "outputs": [
    {
     "data": {
      "text/plain": [
       "array(['t', 'h', 'i', 's', 'I', 's', 'G', 'o', 'n', 'n', 'a'], dtype='<U1')"
      ]
     },
     "execution_count": 40,
     "metadata": {},
     "output_type": "execute_result"
    }
   ],
   "source": [
    "#picking a smaller set of elements from a sequence using fromiter\n",
    "\n",
    "ar7 = np.fromiter(astr, dtype =\"U1\", count = 11)\n",
    "ar7\n"
   ]
  },
  {
   "cell_type": "raw",
   "id": "2425e8f8",
   "metadata": {},
   "source": []
  },
  {
   "cell_type": "code",
   "execution_count": 41,
   "id": "e44fc734",
   "metadata": {},
   "outputs": [
    {
     "data": {
      "text/plain": [
       "array([1, 2, 3], dtype=int16)"
      ]
     },
     "execution_count": 41,
     "metadata": {},
     "output_type": "execute_result"
    }
   ],
   "source": [
    "ar8 = np.fromiter(adict, dtype = np.int16, count = 3)\n",
    "ar8"
   ]
  },
  {
   "cell_type": "code",
   "execution_count": 42,
   "id": "6e07b3c2",
   "metadata": {},
   "outputs": [
    {
     "data": {
      "text/plain": [
       "array([0, 1, 2, 3, 4, 5, 6])"
      ]
     },
     "execution_count": 42,
     "metadata": {},
     "output_type": "execute_result"
    }
   ],
   "source": [
    "#creating ndarrays with a Numerical range using arange()\n",
    "arr5 =np.arange(7)\n",
    "arr5"
   ]
  },
  {
   "cell_type": "code",
   "execution_count": 43,
   "id": "aba23284",
   "metadata": {},
   "outputs": [
    {
     "data": {
      "text/plain": [
       "dtype('int32')"
      ]
     },
     "execution_count": 43,
     "metadata": {},
     "output_type": "execute_result"
    }
   ],
   "source": [
    "arr5.dtype"
   ]
  },
  {
   "cell_type": "code",
   "execution_count": 44,
   "id": "50a212a0",
   "metadata": {},
   "outputs": [
    {
     "data": {
      "text/plain": [
       "array([1., 3., 5.], dtype=float32)"
      ]
     },
     "execution_count": 44,
     "metadata": {},
     "output_type": "execute_result"
    }
   ],
   "source": [
    "arr6 =np.arange(1,7,2, np.float32)\n",
    "arr6"
   ]
  },
  {
   "cell_type": "code",
   "execution_count": 45,
   "id": "51b735ae",
   "metadata": {},
   "outputs": [
    {
     "data": {
      "text/plain": [
       "array([2. , 2.2, 2.4, 2.6, 2.8, 3. ])"
      ]
     },
     "execution_count": 45,
     "metadata": {},
     "output_type": "execute_result"
    }
   ],
   "source": [
    "#Creating arrays with a numerical range using linspace()\n",
    "a1 = np.linspace(2,3,6)\n",
    "a1"
   ]
  },
  {
   "cell_type": "code",
   "execution_count": 46,
   "id": "f53db013",
   "metadata": {},
   "outputs": [
    {
     "data": {
      "text/plain": [
       "array([2.5       , 2.85714286, 3.21428571, 3.57142857, 3.92857143,\n",
       "       4.28571429, 4.64285714, 5.        ])"
      ]
     },
     "execution_count": 46,
     "metadata": {},
     "output_type": "execute_result"
    }
   ],
   "source": [
    "a2 =np.linspace(2.5, 5, 8)\n",
    "a2"
   ]
  },
  {
   "cell_type": "code",
   "execution_count": null,
   "id": "347c712f",
   "metadata": {},
   "outputs": [],
   "source": []
  }
 ],
 "metadata": {
  "kernelspec": {
   "display_name": "Python 3 (ipykernel)",
   "language": "python",
   "name": "python3"
  },
  "language_info": {
   "codemirror_mode": {
    "name": "ipython",
    "version": 3
   },
   "file_extension": ".py",
   "mimetype": "text/x-python",
   "name": "python",
   "nbconvert_exporter": "python",
   "pygments_lexer": "ipython3",
   "version": "3.11.4"
  }
 },
 "nbformat": 4,
 "nbformat_minor": 5
}
