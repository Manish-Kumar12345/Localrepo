{
 "cells": [
  {
   "cell_type": "code",
   "execution_count": 2,
   "id": "56265b41",
   "metadata": {},
   "outputs": [],
   "source": [
    "import pandas as pd\n",
    "import numpy as np\n"
   ]
  },
  {
   "cell_type": "code",
   "execution_count": 3,
   "id": "2ad8f590",
   "metadata": {},
   "outputs": [],
   "source": [
    "# Series datastructure\n",
    "# Creating Series Objects\n"
   ]
  },
  {
   "cell_type": "code",
   "execution_count": 4,
   "id": "94444dfe",
   "metadata": {},
   "outputs": [],
   "source": [
    "obj3 = pd.Series()"
   ]
  },
  {
   "cell_type": "code",
   "execution_count": 5,
   "id": "97852913",
   "metadata": {},
   "outputs": [
    {
     "data": {
      "text/plain": [
       "Series([], dtype: object)"
      ]
     },
     "execution_count": 5,
     "metadata": {},
     "output_type": "execute_result"
    }
   ],
   "source": [
    "obj3"
   ]
  },
  {
   "cell_type": "code",
   "execution_count": 6,
   "id": "0c18c805",
   "metadata": {},
   "outputs": [],
   "source": [
    "# Creating non-empty Series objects"
   ]
  },
  {
   "cell_type": "code",
   "execution_count": 8,
   "id": "80ef8051",
   "metadata": {},
   "outputs": [
    {
     "data": {
      "text/plain": [
       "0    0\n",
       "1    1\n",
       "2    2\n",
       "3    3\n",
       "4    4\n",
       "dtype: int64"
      ]
     },
     "execution_count": 8,
     "metadata": {},
     "output_type": "execute_result"
    }
   ],
   "source": [
    "#1. Specify data as Python Sequence\n",
    "obj1 =pd.Series(range(5))\n",
    "obj1"
   ]
  },
  {
   "cell_type": "code",
   "execution_count": 9,
   "id": "bbabb934",
   "metadata": {},
   "outputs": [
    {
     "data": {
      "text/plain": [
       "0    3.5\n",
       "1    5.0\n",
       "2    6.5\n",
       "3    8.0\n",
       "dtype: float64"
      ]
     },
     "execution_count": 9,
     "metadata": {},
     "output_type": "execute_result"
    }
   ],
   "source": [
    "obj2 = pd.Series([3.5,5., 6.5, 8.])\n",
    "obj2"
   ]
  },
  {
   "cell_type": "code",
   "execution_count": 10,
   "id": "8d49d150",
   "metadata": {},
   "outputs": [
    {
     "data": {
      "text/plain": [
       "0     4\n",
       "1     6\n",
       "2     8\n",
       "3    10\n",
       "dtype: int64"
      ]
     },
     "execution_count": 10,
     "metadata": {},
     "output_type": "execute_result"
    }
   ],
   "source": [
    "s1 = pd.Series([4,6,8,10])\n",
    "s1"
   ]
  },
  {
   "cell_type": "code",
   "execution_count": 11,
   "id": "aeedbc72",
   "metadata": {},
   "outputs": [
    {
     "data": {
      "text/plain": [
       "0    11\n",
       "1    21\n",
       "2    31\n",
       "3    41\n",
       "dtype: int64"
      ]
     },
     "execution_count": 11,
     "metadata": {},
     "output_type": "execute_result"
    }
   ],
   "source": [
    "s2 = pd.Series((11,21,31,41))\n",
    "s2"
   ]
  },
  {
   "cell_type": "code",
   "execution_count": 12,
   "id": "bfcb3f35",
   "metadata": {},
   "outputs": [
    {
     "name": "stdout",
     "output_type": "stream",
     "text": [
      "Series Object:\n",
      "0    o\n",
      "1    h\n",
      "2    o\n",
      "dtype: object\n"
     ]
    }
   ],
   "source": [
    "s3 = pd.Series(['o','h','o'])\n",
    "print(\"Series Object:\")\n",
    "print(s3)"
   ]
  },
  {
   "cell_type": "code",
   "execution_count": 13,
   "id": "c652329d",
   "metadata": {},
   "outputs": [
    {
     "name": "stdout",
     "output_type": "stream",
     "text": [
      "Series Objects:\n"
     ]
    },
    {
     "data": {
      "text/plain": [
       "0    so funny\n",
       "dtype: object"
      ]
     },
     "execution_count": 13,
     "metadata": {},
     "output_type": "execute_result"
    }
   ],
   "source": [
    "s4 = pd.Series(\"so funny\")\n",
    "print(\"Series Objects:\")\n",
    "s4"
   ]
  },
  {
   "cell_type": "code",
   "execution_count": 14,
   "id": "6ab3f10c",
   "metadata": {},
   "outputs": [
    {
     "name": "stdout",
     "output_type": "stream",
     "text": [
      "Series Objects:\n"
     ]
    },
    {
     "data": {
      "text/plain": [
       "0           I\n",
       "1          am\n",
       "2    laughing\n",
       "dtype: object"
      ]
     },
     "execution_count": 14,
     "metadata": {},
     "output_type": "execute_result"
    }
   ],
   "source": [
    "s5 = pd.Series([\"I\",\"am\",\"laughing\"])\n",
    "print(\"Series Objects:\")\n",
    "s5"
   ]
  },
  {
   "cell_type": "code",
   "execution_count": 15,
   "id": "668a4509",
   "metadata": {},
   "outputs": [],
   "source": [
    "# 2. Specify data as ndarray"
   ]
  },
  {
   "cell_type": "code",
   "execution_count": 16,
   "id": "0c7bc477",
   "metadata": {},
   "outputs": [
    {
     "data": {
      "text/plain": [
       "array([ 3. ,  6.5, 10. ])"
      ]
     },
     "execution_count": 16,
     "metadata": {},
     "output_type": "execute_result"
    }
   ],
   "source": [
    "nda1 = np.arange(3,13,3.5)\n",
    "nda1"
   ]
  },
  {
   "cell_type": "code",
   "execution_count": 17,
   "id": "4d8c2065",
   "metadata": {},
   "outputs": [
    {
     "data": {
      "text/plain": [
       "0     3.0\n",
       "1     6.5\n",
       "2    10.0\n",
       "dtype: float64"
      ]
     },
     "execution_count": 17,
     "metadata": {},
     "output_type": "execute_result"
    }
   ],
   "source": [
    "ser1 = pd.Series(nda1)\n",
    "ser1"
   ]
  },
  {
   "cell_type": "code",
   "execution_count": 18,
   "id": "cde0fa66",
   "metadata": {},
   "outputs": [
    {
     "data": {
      "text/plain": [
       "0    24.0\n",
       "1    34.0\n",
       "2    44.0\n",
       "3    54.0\n",
       "4    64.0\n",
       "dtype: float64"
      ]
     },
     "execution_count": 18,
     "metadata": {},
     "output_type": "execute_result"
    }
   ],
   "source": [
    "s6 = pd.Series(np.linspace(24,64,5))\n",
    "s6"
   ]
  },
  {
   "cell_type": "code",
   "execution_count": 19,
   "id": "d0cc20b7",
   "metadata": {},
   "outputs": [
    {
     "data": {
      "text/plain": [
       "0    3\n",
       "1    5\n",
       "2    3\n",
       "3    5\n",
       "dtype: int32"
      ]
     },
     "execution_count": 19,
     "metadata": {},
     "output_type": "execute_result"
    }
   ],
   "source": [
    "s7 = pd.Series(np.tile([3,5], 2))\n",
    "s7"
   ]
  },
  {
   "cell_type": "code",
   "execution_count": 20,
   "id": "f0898852",
   "metadata": {},
   "outputs": [
    {
     "data": {
      "text/plain": [
       "jan    31\n",
       "feb    28\n",
       "Mar    31\n",
       "dtype: int64"
      ]
     },
     "execution_count": 20,
     "metadata": {},
     "output_type": "execute_result"
    }
   ],
   "source": [
    "#3. specify data as a python Dictionary\n",
    "obj5 = pd.Series({'jan':31, 'feb':28, 'Mar' : 31})\n",
    "obj5"
   ]
  },
  {
   "cell_type": "code",
   "execution_count": 21,
   "id": "ed065bb2",
   "metadata": {},
   "outputs": [
    {
     "name": "stdout",
     "output_type": "stream",
     "text": [
      "A    39\n",
      "B    41\n",
      "C    34\n",
      "D    56\n",
      "dtype: int64\n"
     ]
    }
   ],
   "source": [
    "stu = {'A': 39 , 'B': 41, 'C' : 34,\"D\": 56}\n",
    "s8 = pd.Series(stu)\n",
    "print(s8)"
   ]
  },
  {
   "cell_type": "code",
   "execution_count": 22,
   "id": "a2b75789",
   "metadata": {},
   "outputs": [
    {
     "data": {
      "text/plain": [
       "0    10\n",
       "dtype: int64"
      ]
     },
     "execution_count": 22,
     "metadata": {},
     "output_type": "execute_result"
    }
   ],
   "source": [
    "#4. specify data as a Scalar value\n",
    "medalswon = pd.Series(10, index = range(0, 1))\n",
    "medalswon"
   ]
  },
  {
   "cell_type": "code",
   "execution_count": 24,
   "id": "e324d5f6",
   "metadata": {},
   "outputs": [
    {
     "data": {
      "text/plain": [
       "1    15\n",
       "3    15\n",
       "5    15\n",
       "dtype: int64"
      ]
     },
     "execution_count": 24,
     "metadata": {},
     "output_type": "execute_result"
    }
   ],
   "source": [
    "medals2 = pd.Series(15, index = range(1,6,2))\n",
    "medals2"
   ]
  },
  {
   "cell_type": "markdown",
   "id": "1b61a8c9",
   "metadata": {},
   "source": []
  },
  {
   "cell_type": "code",
   "execution_count": 25,
   "id": "39e4d177",
   "metadata": {},
   "outputs": [
    {
     "data": {
      "text/plain": [
       "Indore    yet to start\n",
       "Delhi     yet to start\n",
       "shimla    yet to start\n",
       "dtype: object"
      ]
     },
     "execution_count": 25,
     "metadata": {},
     "output_type": "execute_result"
    }
   ],
   "source": [
    "ser2 = pd.Series('yet to start', index = ['Indore', 'Delhi', 'shimla'])\n",
    "ser2"
   ]
  },
  {
   "cell_type": "code",
   "execution_count": 26,
   "id": "8e98aa73",
   "metadata": {},
   "outputs": [
    {
     "data": {
      "text/plain": [
       "qtr1    50000\n",
       "qtr2    50000\n",
       "qtr3    50000\n",
       "qtr4    50000\n",
       "dtype: int64"
      ]
     },
     "execution_count": 26,
     "metadata": {},
     "output_type": "execute_result"
    }
   ],
   "source": [
    "s9 = pd.Series(50000, index =['qtr1','qtr2','qtr3','qtr4'])\n",
    "s9"
   ]
  },
  {
   "cell_type": "code",
   "execution_count": 27,
   "id": "2ece8690",
   "metadata": {},
   "outputs": [
    {
     "data": {
      "text/plain": [
       "2020    200\n",
       "2022    200\n",
       "2024    200\n",
       "2026    200\n",
       "2028    200\n",
       "dtype: int64"
      ]
     },
     "execution_count": 27,
     "metadata": {},
     "output_type": "execute_result"
    }
   ],
   "source": [
    "s10 = pd.Series(200, index = range(2020, 2029, 2))\n",
    "s10"
   ]
  },
  {
   "cell_type": "code",
   "execution_count": 28,
   "id": "0ea7b873",
   "metadata": {},
   "outputs": [
    {
     "data": {
      "text/plain": [
       "0    6.50\n",
       "1     NaN\n",
       "2    2.34\n",
       "dtype: float64"
      ]
     },
     "execution_count": 28,
     "metadata": {},
     "output_type": "execute_result"
    }
   ],
   "source": [
    "# specifing NaN  values  in a Series objects\n",
    "obj3 = pd.Series([6.5, np.NaN, 2.34])\n",
    "obj3"
   ]
  },
  {
   "cell_type": "code",
   "execution_count": 29,
   "id": "47e6118a",
   "metadata": {},
   "outputs": [],
   "source": [
    "# Specify index as well as data with series()"
   ]
  },
  {
   "cell_type": "code",
   "execution_count": 30,
   "id": "183ae97d",
   "metadata": {},
   "outputs": [],
   "source": [
    "arr = [31, 28 , 31 , 30]\n",
    "mon = [\"jan\",\"feb\",\"Mar\",\"Apr\"]\n",
    "obj3 = pd.Series(data = arr, index = mon)"
   ]
  },
  {
   "cell_type": "code",
   "execution_count": 31,
   "id": "35a4ade2",
   "metadata": {},
   "outputs": [
    {
     "data": {
      "text/plain": [
       "jan    31\n",
       "feb    28\n",
       "Mar    31\n",
       "Apr    30\n",
       "dtype: int64"
      ]
     },
     "execution_count": 31,
     "metadata": {},
     "output_type": "execute_result"
    }
   ],
   "source": [
    "obj3"
   ]
  },
  {
   "cell_type": "code",
   "execution_count": 33,
   "id": "892d96c2",
   "metadata": {},
   "outputs": [
    {
     "data": {
      "text/plain": [
       "A    32\n",
       "B    34\n",
       "C    35\n",
       "dtype: int64"
      ]
     },
     "execution_count": 33,
     "metadata": {},
     "output_type": "execute_result"
    }
   ],
   "source": [
    "obj4 = pd.Series(data = [32,34,35], index =[\"A\", \"B\",\"C\"])\n",
    "obj4"
   ]
  },
  {
   "cell_type": "code",
   "execution_count": 34,
   "id": "5c3370a2",
   "metadata": {},
   "outputs": [
    {
     "data": {
      "text/plain": [
       "jan    31\n",
       "feb    28\n",
       "Mar    31\n",
       "Apr    30\n",
       "dtype: int64"
      ]
     },
     "execution_count": 34,
     "metadata": {},
     "output_type": "execute_result"
    }
   ],
   "source": [
    "obj3 = pd.Series(arr, index = mon)\n",
    "obj3"
   ]
  },
  {
   "cell_type": "code",
   "execution_count": 37,
   "id": "5f57d3d7",
   "metadata": {},
   "outputs": [
    {
     "data": {
      "text/plain": [
       "a     1\n",
       "b     4\n",
       "c     7\n",
       "d    10\n",
       "e    13\n",
       "dtype: int64"
      ]
     },
     "execution_count": 37,
     "metadata": {},
     "output_type": "execute_result"
    }
   ],
   "source": [
    "s1 = pd.Series(range(1,15,3), index = [x for x in 'abcde'])\n",
    "s1"
   ]
  },
  {
   "cell_type": "code",
   "execution_count": 40,
   "id": "f237341e",
   "metadata": {},
   "outputs": [
    {
     "data": {
      "text/plain": [
       "A    6700\n",
       "B    5600\n",
       "C    5000\n",
       "D    5200\n",
       "dtype: int64"
      ]
     },
     "execution_count": 40,
     "metadata": {},
     "output_type": "execute_result"
    }
   ],
   "source": [
    "section = [\"A\",\"B\",\"C\",\"D\"]\n",
    "contri = [6700, 5600, 5000, 5200]\n",
    "s11 = pd.Series(data = contri , index = section)\n",
    "s11"
   ]
  },
  {
   "cell_type": "code",
   "execution_count": 41,
   "id": "2e770fa1",
   "metadata": {},
   "outputs": [
    {
     "data": {
      "text/plain": [
       "jan    31.0\n",
       "feb    28.0\n",
       "Mar    31.0\n",
       "Apr    30.0\n",
       "dtype: float64"
      ]
     },
     "execution_count": 41,
     "metadata": {},
     "output_type": "execute_result"
    }
   ],
   "source": [
    "# Specify data type along with data and index\n",
    "obj5 = pd.Series(data = arr , index = mon, dtype = np.float64)\n",
    "obj5"
   ]
  },
  {
   "cell_type": "code",
   "execution_count": 42,
   "id": "2cbd45a6",
   "metadata": {},
   "outputs": [
    {
     "data": {
      "text/plain": [
       "array([ 9, 10, 11, 12])"
      ]
     },
     "execution_count": 42,
     "metadata": {},
     "output_type": "execute_result"
    }
   ],
   "source": [
    "# Using a Mathematical function to create data array in Series()\n",
    "a = np.arange(9, 13)\n",
    "a"
   ]
  },
  {
   "cell_type": "code",
   "execution_count": 43,
   "id": "639a84af",
   "metadata": {},
   "outputs": [
    {
     "data": {
      "text/plain": [
       "9     18\n",
       "10    20\n",
       "11    22\n",
       "12    24\n",
       "dtype: int32"
      ]
     },
     "execution_count": 43,
     "metadata": {},
     "output_type": "execute_result"
    }
   ],
   "source": [
    "obj7 =pd.Series(index = a, data = a*2)\n",
    "obj7"
   ]
  },
  {
   "cell_type": "code",
   "execution_count": 44,
   "id": "8190dfd6",
   "metadata": {},
   "outputs": [
    {
     "data": {
      "text/plain": [
       "9      81\n",
       "10    100\n",
       "11    121\n",
       "12    144\n",
       "dtype: int32"
      ]
     },
     "execution_count": 44,
     "metadata": {},
     "output_type": "execute_result"
    }
   ],
   "source": [
    "obj8 = pd.Series(index = a, data = a**2)\n",
    "obj8"
   ]
  },
  {
   "cell_type": "code",
   "execution_count": 45,
   "id": "b5a47f06",
   "metadata": {
    "collapsed": true
   },
   "outputs": [
    {
     "data": {
      "text/plain": [
       "0     9\n",
       "1    10\n",
       "2    11\n",
       "3    12\n",
       "4     9\n",
       "5    10\n",
       "6    11\n",
       "7    12\n",
       "dtype: int64"
      ]
     },
     "execution_count": 45,
     "metadata": {},
     "output_type": "execute_result"
    }
   ],
   "source": [
    "Lst = [9,10, 11, 12]\n",
    "obj8 = pd.Series(data = (2*Lst))\n",
    "obj8"
   ]
  },
  {
   "cell_type": "code",
   "execution_count": 47,
   "id": "ab6bbf65",
   "metadata": {},
   "outputs": [
    {
     "data": {
      "text/plain": [
       "A    13400.0\n",
       "B    11200.0\n",
       "C    10000.0\n",
       "D    10400.0\n",
       "E     9000.0\n",
       "dtype: float32"
      ]
     },
     "execution_count": 47,
     "metadata": {},
     "output_type": "execute_result"
    }
   ],
   "source": [
    "section = [\"A\",\"B\",\"C\",\"D\",\"E\"]\n",
    "contri1  = np.array([6700, 5600, 5000, 5200, 4500])\n",
    "s12 = pd.Series(data = contri1*2, index = section, dtype = np.float32)\n",
    "s12"
   ]
  },
  {
   "cell_type": "code",
   "execution_count": 48,
   "id": "229f5bed",
   "metadata": {},
   "outputs": [
    {
     "name": "stdout",
     "output_type": "stream",
     "text": [
      "Total no of students\n",
      "science       67\n",
      "commerce      84\n",
      "Humanities    95\n",
      "dtype: int64\n"
     ]
    }
   ],
   "source": [
    "c11 = pd.Series(data = [30,40,50], index =['science','commerce','Humanities'])\n",
    "c12 = pd.Series(data  =[37,44,45], index =['science','commerce','Humanities'])\n",
    "# adding two objects to get total no of students\n",
    "print(\"Total no of students\")\n",
    "print(c11+c12) # series objects  arithmetic"
   ]
  },
  {
   "cell_type": "code",
   "execution_count": 49,
   "id": "d19c9590",
   "metadata": {},
   "outputs": [
    {
     "data": {
      "text/plain": [
       "C    5000\n",
       "D    5200\n",
       "B    5600\n",
       "A    6700\n",
       "dtype: int64"
      ]
     },
     "execution_count": 49,
     "metadata": {},
     "output_type": "execute_result"
    }
   ],
   "source": [
    "s11.sort_values()"
   ]
  },
  {
   "cell_type": "code",
   "execution_count": 50,
   "id": "2353ce43",
   "metadata": {},
   "outputs": [
    {
     "data": {
      "text/plain": [
       "A    6700\n",
       "B    5600\n",
       "D    5200\n",
       "C    5000\n",
       "dtype: int64"
      ]
     },
     "execution_count": 50,
     "metadata": {},
     "output_type": "execute_result"
    }
   ],
   "source": [
    "s11.sort_values(ascending = False)"
   ]
  },
  {
   "cell_type": "code",
   "execution_count": 51,
   "id": "e218b6ad",
   "metadata": {},
   "outputs": [
    {
     "data": {
      "text/plain": [
       "D    5200\n",
       "C    5000\n",
       "B    5600\n",
       "A    6700\n",
       "dtype: int64"
      ]
     },
     "execution_count": 51,
     "metadata": {},
     "output_type": "execute_result"
    }
   ],
   "source": [
    "# sorting on the basis of indexing\n",
    "s11.sort_index(ascending =False)"
   ]
  },
  {
   "cell_type": "code",
   "execution_count": 52,
   "id": "819212d3",
   "metadata": {},
   "outputs": [
    {
     "data": {
      "text/plain": [
       "A    6700\n",
       "B    5600\n",
       "C    5000\n",
       "D    5200\n",
       "dtype: int64"
      ]
     },
     "execution_count": 52,
     "metadata": {},
     "output_type": "execute_result"
    }
   ],
   "source": [
    "s11.sort_index()"
   ]
  },
  {
   "cell_type": "code",
   "execution_count": null,
   "id": "e4709d93",
   "metadata": {},
   "outputs": [],
   "source": [
    "# sir se Pucchna hai \n",
    "# What is the difference between numpy array and Series Data structure?"
   ]
  }
 ],
 "metadata": {
  "kernelspec": {
   "display_name": "Python 3 (ipykernel)",
   "language": "python",
   "name": "python3"
  },
  "language_info": {
   "codemirror_mode": {
    "name": "ipython",
    "version": 3
   },
   "file_extension": ".py",
   "mimetype": "text/x-python",
   "name": "python",
   "nbconvert_exporter": "python",
   "pygments_lexer": "ipython3",
   "version": "3.11.5"
  }
 },
 "nbformat": 4,
 "nbformat_minor": 5
}
